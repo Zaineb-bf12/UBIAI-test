{
 "cells": [
  {
   "cell_type": "markdown",
   "id": "3ca12a51",
   "metadata": {},
   "source": [
    "#Basic Section"
   ]
  },
  {
   "cell_type": "code",
   "execution_count": 1,
   "id": "017143e2",
   "metadata": {},
   "outputs": [
    {
     "name": "stdout",
     "output_type": "stream",
     "text": [
      "I be run in the park with my dog and feel happy .\n",
      "running park dogs feeling happy .\n"
     ]
    }
   ],
   "source": [
    "import spacy\n",
    "\n",
    "\n",
    "nlp = spacy.load('en_core_web_sm')\n",
    "\n",
    "sentence = \"The quick brown fox jumps over the lazy dog.\"\n",
    "\n",
    "doc = nlp(sentence)\n",
    "\n",
    "for ent in doc.ents:\n",
    "\tprint(ent.text, ent.start_char, ent.end_char, ent.label_)\n",
    "\n",
    "\n",
    "\n",
    "def lemmatize_text(text):\n",
    "    doc = nlp(text)\n",
    "    lemmatized_text = \" \".join([token.lemma_ for token in doc])\n",
    "    return lemmatized_text\n",
    "\n",
    "def remove_stopwords(text):\n",
    "    doc = nlp(text)\n",
    "    filtered_text = \" \".join([token.text for token in doc if not token.is_stop])\n",
    "    return filtered_text\n",
    "\n",
    "text = \"I am running in the park with my dogs and feeling happy.\"\n",
    "\n",
    "lemmatized_text = lemmatize_text(text)\n",
    "print(lemmatized_text)\n",
    "\n",
    "filtered_text = remove_stopwords(text)\n",
    "print(filtered_text)"
   ]
  },
  {
   "cell_type": "code",
   "execution_count": null,
   "id": "74ab6c6d",
   "metadata": {},
   "outputs": [],
   "source": [
    "#Intermediate Section"
   ]
  },
  {
   "cell_type": "code",
   "execution_count": 3,
   "id": "88f30e31",
   "metadata": {},
   "outputs": [],
   "source": [
    "import pandas as pd\n",
    "\n",
    "training_df = pd.read_csv('C:/Users/zaineb/Downloads/learn-ai-bbc/BBC News Train.csv')\n",
    "test_df = pd.read_csv('C:/Users/zaineb/Downloads/learn-ai-bbc/BBC News Test.csv')\n",
    "sample_df = pd.read_csv('C:/Users/zaineb/Downloads/learn-ai-bbc/BBC News Sample Solution.csv')"
   ]
  },
  {
   "cell_type": "code",
   "execution_count": 4,
   "id": "12ef48aa",
   "metadata": {},
   "outputs": [
    {
     "name": "stdout",
     "output_type": "stream",
     "text": [
      "Training data shape:  (1490, 3)\n",
      "Test data shape:  (735, 2)\n",
      "Sample data shape:  (735, 2)\n"
     ]
    }
   ],
   "source": [
    "print('Training data shape: ', training_df.shape)\n",
    "print('Test data shape: ', test_df.shape)\n",
    "print('Sample data shape: ', sample_df.shape)"
   ]
  },
  {
   "cell_type": "code",
   "execution_count": 5,
   "id": "3ec98498",
   "metadata": {},
   "outputs": [
    {
     "name": "stdout",
     "output_type": "stream",
     "text": [
      "   ArticleId                                               Text  Category\n",
      "0       1833  worldcom ex-boss launches defence lawyers defe...  business\n",
      "1        154  german business confidence slides german busin...  business\n",
      "2       1101  bbc poll indicates economic gloom citizens in ...  business\n",
      "3       1976  lifestyle  governs mobile choice  faster  bett...      tech\n",
      "4        917  enron bosses in $168m payout eighteen former e...  business\n"
     ]
    }
   ],
   "source": [
    "print(training_df.head())"
   ]
  },
  {
   "cell_type": "code",
   "execution_count": 6,
   "id": "1cef3213",
   "metadata": {},
   "outputs": [
    {
     "name": "stdout",
     "output_type": "stream",
     "text": [
      "   ArticleId                                               Text  Category  \\\n",
      "0       1833  worldcom ex-boss launches defence lawyers defe...  business   \n",
      "1        154  german business confidence slides german busin...  business   \n",
      "2       1101  bbc poll indicates economic gloom citizens in ...  business   \n",
      "3       1976  lifestyle  governs mobile choice  faster  bett...      tech   \n",
      "4        917  enron bosses in $168m payout eighteen former e...  business   \n",
      "\n",
      "                                          Clean Text  \n",
      "0  worldcom boss launch defence lawyer defend wor...  \n",
      "1  german business confidence slide german busine...  \n",
      "2  bbc poll indicate economic gloom citizen major...  \n",
      "3  lifestyle govern mobile choice fast well funky...  \n",
      "4  enron boss payout eighteen enron director agre...  \n"
     ]
    }
   ],
   "source": [
    "import spacy\n",
    "nlp = spacy.load(\"en_core_web_sm\")\n",
    "\n",
    "# define a function to preprocess the text data\n",
    "def preprocess(text):\n",
    "    # remove all stop words and punctuations, lemmatize the words, lowercase all the words\n",
    "    doc = nlp(text.lower())\n",
    "    tokens = [token.lemma_ for token in doc if not token.is_stop and not token.is_punct]\n",
    "    # remove all numbers and words with length less than 3\n",
    "    tokens = [token for token in tokens if not token.isdigit() and len(token) > 2]\n",
    "    return \" \".join(tokens)\n",
    "\n",
    "# apply the preprocessing function to the 'text' column of the bbc-news dataset\n",
    "training_df['Clean Text'] = training_df['Text'].apply(preprocess)\n",
    "\n",
    "# display the first five rows of the preprocessed dataset\n",
    "print(training_df.head())"
   ]
  },
  {
   "cell_type": "code",
   "execution_count": 8,
   "id": "8b6dbf9b",
   "metadata": {},
   "outputs": [
    {
     "name": "stdout",
     "output_type": "stream",
     "text": [
      "Accuracy: 0.9664429530201343\n"
     ]
    }
   ],
   "source": [
    "from sklearn.feature_extraction.text import TfidfVectorizer\n",
    "from sklearn.linear_model import LogisticRegression\n",
    "from sklearn.model_selection import train_test_split\n",
    "\n",
    "# split the dataset into training and testing sets\n",
    "X_train, X_test, y_train, y_test = train_test_split(training_df['Text'], training_df['Category'], test_size=0.2, random_state=42)\n",
    "\n",
    "# use TF-IDF vectorization\n",
    "vectorizer = TfidfVectorizer()\n",
    "X_train_tfidf = vectorizer.fit_transform(X_train)\n",
    "X_test_tfidf = vectorizer.transform(X_test)\n",
    "\n",
    "# use the Logistic Regression classifier\n",
    "classifier = LogisticRegression()\n",
    "classifier.fit(X_train_tfidf, y_train)\n",
    "\n",
    "# report the accuracy of the model on the testing set\n",
    "accuracy = classifier.score(X_test_tfidf, y_test)\n",
    "print(\"Accuracy:\", accuracy)"
   ]
  },
  {
   "cell_type": "code",
   "execution_count": null,
   "id": "339d2311",
   "metadata": {},
   "outputs": [],
   "source": [
    "#Advanced Section"
   ]
  },
  {
   "cell_type": "code",
   "execution_count": 9,
   "id": "d584e72b",
   "metadata": {},
   "outputs": [
    {
     "data": {
      "text/html": [
       "<div>\n",
       "<style scoped>\n",
       "    .dataframe tbody tr th:only-of-type {\n",
       "        vertical-align: middle;\n",
       "    }\n",
       "\n",
       "    .dataframe tbody tr th {\n",
       "        vertical-align: top;\n",
       "    }\n",
       "\n",
       "    .dataframe thead th {\n",
       "        text-align: right;\n",
       "    }\n",
       "</style>\n",
       "<table border=\"1\" class=\"dataframe\">\n",
       "  <thead>\n",
       "    <tr style=\"text-align: right;\">\n",
       "      <th></th>\n",
       "      <th>Text</th>\n",
       "      <th>Class</th>\n",
       "    </tr>\n",
       "  </thead>\n",
       "  <tbody>\n",
       "    <tr>\n",
       "      <th>0</th>\n",
       "      <td>@spitphyre  just read your comment  nice. And ...</td>\n",
       "      <td>4</td>\n",
       "    </tr>\n",
       "    <tr>\n",
       "      <th>1</th>\n",
       "      <td>I don't know man.... He always there when I ne...</td>\n",
       "      <td>4</td>\n",
       "    </tr>\n",
       "    <tr>\n",
       "      <th>2</th>\n",
       "      <td>got her engagement session pics back from the ...</td>\n",
       "      <td>4</td>\n",
       "    </tr>\n",
       "    <tr>\n",
       "      <th>3</th>\n",
       "      <td>@bet33 i ask my dad he said no  but ill go see...</td>\n",
       "      <td>0</td>\n",
       "    </tr>\n",
       "    <tr>\n",
       "      <th>4</th>\n",
       "      <td>I wanna go see The Breakup</td>\n",
       "      <td>0</td>\n",
       "    </tr>\n",
       "    <tr>\n",
       "      <th>5</th>\n",
       "      <td>Hey girls! Im out of school... Finished my fin...</td>\n",
       "      <td>4</td>\n",
       "    </tr>\n",
       "    <tr>\n",
       "      <th>6</th>\n",
       "      <td>i am getting ready to do my monthly report... ...</td>\n",
       "      <td>4</td>\n",
       "    </tr>\n",
       "    <tr>\n",
       "      <th>7</th>\n",
       "      <td>@lifes_beauty:haha, hes alright...shes about t...</td>\n",
       "      <td>0</td>\n",
       "    </tr>\n",
       "    <tr>\n",
       "      <th>8</th>\n",
       "      <td>@SoulByDzyne  we'll bring itchext two!!! Lol.</td>\n",
       "      <td>0</td>\n",
       "    </tr>\n",
       "    <tr>\n",
       "      <th>9</th>\n",
       "      <td>@justineville it's easy to look up new bands. ...</td>\n",
       "      <td>4</td>\n",
       "    </tr>\n",
       "  </tbody>\n",
       "</table>\n",
       "</div>"
      ],
      "text/plain": [
       "                                                Text  Class\n",
       "0  @spitphyre  just read your comment  nice. And ...      4\n",
       "1  I don't know man.... He always there when I ne...      4\n",
       "2  got her engagement session pics back from the ...      4\n",
       "3  @bet33 i ask my dad he said no  but ill go see...      0\n",
       "4                        I wanna go see The Breakup       0\n",
       "5  Hey girls! Im out of school... Finished my fin...      4\n",
       "6  i am getting ready to do my monthly report... ...      4\n",
       "7  @lifes_beauty:haha, hes alright...shes about t...      0\n",
       "8      @SoulByDzyne  we'll bring itchext two!!! Lol.      0\n",
       "9  @justineville it's easy to look up new bands. ...      4"
      ]
     },
     "execution_count": 9,
     "metadata": {},
     "output_type": "execute_result"
    }
   ],
   "source": [
    "import pandas as pd\n",
    "\n",
    "data = pd.read_csv('C:/Users/zaineb/Desktop/Test/tweets-sentiment-dataset.csv',encoding = \"latin\",header=None)\n",
    "data = data.iloc[:,[5,0]]\n",
    "data.columns = ['Text','Class']\n",
    "data = data.sample(102000)\n",
    "data.reset_index(drop=True,inplace=True)\n",
    "data.head(10)"
   ]
  },
  {
   "cell_type": "code",
   "execution_count": 10,
   "id": "b803758f",
   "metadata": {},
   "outputs": [],
   "source": [
    "import spacy\n",
    "# Load the Spacy English model\n",
    "nlp = spacy.load('en_core_web_sm')\n",
    "\n",
    "# Define a function to preprocess the text\n",
    "def preprocess_text(text):\n",
    "    doc = nlp(text)\n",
    "    tokens = [token.lemma_.lower() for token in doc if not token.is_stop and not token.is_punct and not token.like_num and len(token) >= 3]\n",
    "    return ' '.join(tokens)\n",
    "\n",
    "# Preprocess the text column\n",
    "data['text_processed'] = data['Text'].apply(preprocess_text)"
   ]
  },
  {
   "cell_type": "code",
   "execution_count": 11,
   "id": "21e1291f",
   "metadata": {},
   "outputs": [
    {
     "data": {
      "text/html": [
       "<div>\n",
       "<style scoped>\n",
       "    .dataframe tbody tr th:only-of-type {\n",
       "        vertical-align: middle;\n",
       "    }\n",
       "\n",
       "    .dataframe tbody tr th {\n",
       "        vertical-align: top;\n",
       "    }\n",
       "\n",
       "    .dataframe thead th {\n",
       "        text-align: right;\n",
       "    }\n",
       "</style>\n",
       "<table border=\"1\" class=\"dataframe\">\n",
       "  <thead>\n",
       "    <tr style=\"text-align: right;\">\n",
       "      <th></th>\n",
       "      <th>Text</th>\n",
       "      <th>Class</th>\n",
       "      <th>text_processed</th>\n",
       "    </tr>\n",
       "  </thead>\n",
       "  <tbody>\n",
       "    <tr>\n",
       "      <th>0</th>\n",
       "      <td>@spitphyre  just read your comment  nice. And ...</td>\n",
       "      <td>4</td>\n",
       "      <td>@spitphyre read comment nice comment</td>\n",
       "    </tr>\n",
       "    <tr>\n",
       "      <th>1</th>\n",
       "      <td>I don't know man.... He always there when I ne...</td>\n",
       "      <td>4</td>\n",
       "      <td>know man need day get well</td>\n",
       "    </tr>\n",
       "    <tr>\n",
       "      <th>2</th>\n",
       "      <td>got her engagement session pics back from the ...</td>\n",
       "      <td>4</td>\n",
       "      <td>get engagement session pic photographer love</td>\n",
       "    </tr>\n",
       "    <tr>\n",
       "      <th>3</th>\n",
       "      <td>@bet33 i ask my dad he said no  but ill go see...</td>\n",
       "      <td>0</td>\n",
       "      <td>@bet33 ask dad say ill house instead jaja</td>\n",
       "    </tr>\n",
       "    <tr>\n",
       "      <th>4</th>\n",
       "      <td>I wanna go see The Breakup</td>\n",
       "      <td>0</td>\n",
       "      <td>wanna breakup</td>\n",
       "    </tr>\n",
       "    <tr>\n",
       "      <th>5</th>\n",
       "      <td>Hey girls! Im out of school... Finished my fin...</td>\n",
       "      <td>4</td>\n",
       "      <td>hey girl school finish final today go twitter ...</td>\n",
       "    </tr>\n",
       "    <tr>\n",
       "      <th>6</th>\n",
       "      <td>i am getting ready to do my monthly report... ...</td>\n",
       "      <td>4</td>\n",
       "      <td>get ready monthly report handlin business</td>\n",
       "    </tr>\n",
       "    <tr>\n",
       "      <th>7</th>\n",
       "      <td>@lifes_beauty:haha, hes alright...shes about t...</td>\n",
       "      <td>0</td>\n",
       "      <td>@lifes_beauty haha alright she bath leave</td>\n",
       "    </tr>\n",
       "    <tr>\n",
       "      <th>8</th>\n",
       "      <td>@SoulByDzyne  we'll bring itchext two!!! Lol.</td>\n",
       "      <td>0</td>\n",
       "      <td>@soulbydzyne bring itchext lol</td>\n",
       "    </tr>\n",
       "    <tr>\n",
       "      <th>9</th>\n",
       "      <td>@justineville it's easy to look up new bands. ...</td>\n",
       "      <td>4</td>\n",
       "      <td>@justineville easy look new band want teach</td>\n",
       "    </tr>\n",
       "  </tbody>\n",
       "</table>\n",
       "</div>"
      ],
      "text/plain": [
       "                                                Text  Class  \\\n",
       "0  @spitphyre  just read your comment  nice. And ...      4   \n",
       "1  I don't know man.... He always there when I ne...      4   \n",
       "2  got her engagement session pics back from the ...      4   \n",
       "3  @bet33 i ask my dad he said no  but ill go see...      0   \n",
       "4                        I wanna go see The Breakup       0   \n",
       "5  Hey girls! Im out of school... Finished my fin...      4   \n",
       "6  i am getting ready to do my monthly report... ...      4   \n",
       "7  @lifes_beauty:haha, hes alright...shes about t...      0   \n",
       "8      @SoulByDzyne  we'll bring itchext two!!! Lol.      0   \n",
       "9  @justineville it's easy to look up new bands. ...      4   \n",
       "\n",
       "                                      text_processed  \n",
       "0               @spitphyre read comment nice comment  \n",
       "1                         know man need day get well  \n",
       "2       get engagement session pic photographer love  \n",
       "3          @bet33 ask dad say ill house instead jaja  \n",
       "4                                      wanna breakup  \n",
       "5  hey girl school finish final today go twitter ...  \n",
       "6          get ready monthly report handlin business  \n",
       "7          @lifes_beauty haha alright she bath leave  \n",
       "8                     @soulbydzyne bring itchext lol  \n",
       "9        @justineville easy look new band want teach  "
      ]
     },
     "execution_count": 11,
     "metadata": {},
     "output_type": "execute_result"
    }
   ],
   "source": [
    "data.head(10)\n"
   ]
  },
  {
   "cell_type": "code",
   "execution_count": 12,
   "id": "727f0c82",
   "metadata": {},
   "outputs": [
    {
     "data": {
      "text/plain": [
       "Text              0\n",
       "Class             0\n",
       "text_processed    0\n",
       "dtype: int64"
      ]
     },
     "execution_count": 12,
     "metadata": {},
     "output_type": "execute_result"
    }
   ],
   "source": [
    "data.isna().sum()"
   ]
  },
  {
   "cell_type": "code",
   "execution_count": 13,
   "id": "81768139",
   "metadata": {},
   "outputs": [
    {
     "data": {
      "text/plain": [
       "1    51013\n",
       "0    50987\n",
       "Name: Class, dtype: int64"
      ]
     },
     "execution_count": 13,
     "metadata": {},
     "output_type": "execute_result"
    }
   ],
   "source": [
    "data.loc[data['Class']==4,'Class'] = 1\n",
    "data['Class'].value_counts()"
   ]
  },
  {
   "cell_type": "code",
   "execution_count": 15,
   "id": "15d27e87",
   "metadata": {},
   "outputs": [
    {
     "name": "stdout",
     "output_type": "stream",
     "text": [
      "Accuracy: 0.7311274509803921\n",
      "Precision: 0.7319108638224192\n",
      "Recall: 0.7311274509803921\n",
      "F1 score: 0.7308039029407795\n"
     ]
    },
    {
     "data": {
      "image/png": "[encoded data removed]",
      "text/plain": [
       "<Figure size 432x288 with 1 Axes>"
      ]
     },
     "metadata": {},
     "output_type": "display_data"
    }
   ],
   "source": [
    "import spacy\n",
    "from sklearn.model_selection import train_test_split\n",
    "from sklearn.feature_extraction.text import TfidfVectorizer\n",
    "from sklearn.naive_bayes import MultinomialNB\n",
    "from sklearn.metrics import accuracy_score, precision_score, recall_score, f1_score\n",
    "import matplotlib.pyplot as plt\n",
    "\n",
    "# Split the dataset into training and testing sets\n",
    "X_train, X_test, y_train, y_test = train_test_split(data['text_processed'], data['Class'], test_size=0.2, random_state=42)\n",
    "\n",
    "# Vectorize the text data using TF-IDF\n",
    "vectorizer = TfidfVectorizer()\n",
    "X_train = vectorizer.fit_transform(X_train)\n",
    "X_test = vectorizer.transform(X_test)\n",
    "\n",
    "# Train the Naive Bayes classifier\n",
    "clf = MultinomialNB()\n",
    "clf.fit(X_train, y_train)\n",
    "\n",
    "# Evaluate the model on the testing set\n",
    "y_pred = clf.predict(X_test)\n",
    "acc = accuracy_score(y_test, y_pred)\n",
    "prec = precision_score(y_test, y_pred, average='weighted')\n",
    "rec = recall_score(y_test, y_pred, average='weighted')\n",
    "f1 = f1_score(y_test, y_pred, average='weighted')\n",
    "\n",
    "print(\"Accuracy:\", acc)\n",
    "print(\"Precision:\", prec)\n",
    "print(\"Recall:\", rec)\n",
    "print(\"F1 score:\", f1)\n",
    "\n",
    "# Visualize the distribution of sentiment labels in the dataset using a pie chart\n",
    "labels = data['Class'].value_counts().index.tolist()\n",
    "sizes = data['Class'].value_counts().values.tolist()\n",
    "colors = ['gold', 'yellowgreen', 'lightcoral']\n",
    "plt.pie(sizes, labels=labels, colors=colors, autopct='%1.1f%%', startangle=140)\n",
    "plt.axis('equal')\n",
    "plt.title('Sentiment Distribution')\n",
    "plt.show()\n"
   ]
  },
  {
   "cell_type": "code",
   "execution_count": null,
   "id": "86fb43a6",
   "metadata": {},
   "outputs": [],
   "source": []
  }
 ],
 "metadata": {
  "kernelspec": {
   "display_name": "Python 3 (ipykernel)",
   "language": "python",
   "name": "python3"
  },
  "language_info": {
   "codemirror_mode": {
    "name": "ipython",
    "version": 3
   },
   "file_extension": ".py",
   "mimetype": "text/x-python",
   "name": "python",
   "nbconvert_exporter": "python",
   "pygments_lexer": "ipython3",
   "version": "3.9.7"
  }
 },
 "nbformat": 4,
 "nbformat_minor": 5
}
